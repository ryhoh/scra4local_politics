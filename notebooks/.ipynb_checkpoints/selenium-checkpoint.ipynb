{
 "cells": [
  {
   "cell_type": "code",
   "execution_count": 1,
   "metadata": {},
   "outputs": [],
   "source": [
    "import time\n",
    "import re\n",
    "\n",
    "import requests\n",
    "from selenium import webdriver\n",
    "from selenium.webdriver.common.by import By"
   ]
  },
  {
   "cell_type": "code",
   "execution_count": 2,
   "metadata": {},
   "outputs": [],
   "source": [
    "url = 'http://www.kensakusystem.jp/takatsuki/cgi-bin3/See.exe?Code=izm2vke6bjde8ygf0p'"
   ]
  },
  {
   "cell_type": "code",
   "execution_count": 26,
   "metadata": {},
   "outputs": [
    {
     "name": "stdout",
     "output_type": "stream",
     "text": [
      "docker died?\n"
     ]
    },
    {
     "name": "stderr",
     "output_type": "stream",
     "text": [
      "Traceback (most recent call last):\n",
      "  File \"/Users/tetsuya/Dropbox/大学/M1秋/M政治データベース論/scra4local_politics/env/lib/python3.7/site-packages/urllib3/connection.py\", line 160, in _new_conn\n",
      "    (self._dns_host, self.port), self.timeout, **extra_kw\n",
      "  File \"/Users/tetsuya/Dropbox/大学/M1秋/M政治データベース論/scra4local_politics/env/lib/python3.7/site-packages/urllib3/util/connection.py\", line 84, in create_connection\n",
      "    raise err\n",
      "  File \"/Users/tetsuya/Dropbox/大学/M1秋/M政治データベース論/scra4local_politics/env/lib/python3.7/site-packages/urllib3/util/connection.py\", line 74, in create_connection\n",
      "    sock.connect(sa)\n",
      "ConnectionRefusedError: [Errno 61] Connection refused\n",
      "\n",
      "During handling of the above exception, another exception occurred:\n",
      "\n",
      "Traceback (most recent call last):\n",
      "  File \"/Users/tetsuya/Dropbox/大学/M1秋/M政治データベース論/scra4local_politics/env/lib/python3.7/site-packages/urllib3/connectionpool.py\", line 677, in urlopen\n",
      "    chunked=chunked,\n",
      "  File \"/Users/tetsuya/Dropbox/大学/M1秋/M政治データベース論/scra4local_politics/env/lib/python3.7/site-packages/urllib3/connectionpool.py\", line 392, in _make_request\n",
      "    conn.request(method, url, **httplib_request_kw)\n",
      "  File \"/usr/local/opt/python@3.7/Frameworks/Python.framework/Versions/3.7/lib/python3.7/http/client.py\", line 1277, in request\n",
      "    self._send_request(method, url, body, headers, encode_chunked)\n",
      "  File \"/usr/local/opt/python@3.7/Frameworks/Python.framework/Versions/3.7/lib/python3.7/http/client.py\", line 1323, in _send_request\n",
      "    self.endheaders(body, encode_chunked=encode_chunked)\n",
      "  File \"/usr/local/opt/python@3.7/Frameworks/Python.framework/Versions/3.7/lib/python3.7/http/client.py\", line 1272, in endheaders\n",
      "    self._send_output(message_body, encode_chunked=encode_chunked)\n",
      "  File \"/usr/local/opt/python@3.7/Frameworks/Python.framework/Versions/3.7/lib/python3.7/http/client.py\", line 1032, in _send_output\n",
      "    self.send(msg)\n",
      "  File \"/usr/local/opt/python@3.7/Frameworks/Python.framework/Versions/3.7/lib/python3.7/http/client.py\", line 972, in send\n",
      "    self.connect()\n",
      "  File \"/Users/tetsuya/Dropbox/大学/M1秋/M政治データベース論/scra4local_politics/env/lib/python3.7/site-packages/urllib3/connection.py\", line 187, in connect\n",
      "    conn = self._new_conn()\n",
      "  File \"/Users/tetsuya/Dropbox/大学/M1秋/M政治データベース論/scra4local_politics/env/lib/python3.7/site-packages/urllib3/connection.py\", line 172, in _new_conn\n",
      "    self, \"Failed to establish a new connection: %s\" % e\n",
      "urllib3.exceptions.NewConnectionError: <urllib3.connection.HTTPConnection object at 0x10f1a2ed0>: Failed to establish a new connection: [Errno 61] Connection refused\n",
      "\n",
      "During handling of the above exception, another exception occurred:\n",
      "\n",
      "Traceback (most recent call last):\n",
      "  File \"<ipython-input-26-b0d3d6508bab>\", line 12, in <module>\n",
      "    options=options,\n",
      "  File \"/Users/tetsuya/Dropbox/大学/M1秋/M政治データベース論/scra4local_politics/env/lib/python3.7/site-packages/selenium/webdriver/remote/webdriver.py\", line 157, in __init__\n",
      "    self.start_session(capabilities, browser_profile)\n",
      "  File \"/Users/tetsuya/Dropbox/大学/M1秋/M政治データベース論/scra4local_politics/env/lib/python3.7/site-packages/selenium/webdriver/remote/webdriver.py\", line 252, in start_session\n",
      "    response = self.execute(Command.NEW_SESSION, parameters)\n",
      "  File \"/Users/tetsuya/Dropbox/大学/M1秋/M政治データベース論/scra4local_politics/env/lib/python3.7/site-packages/selenium/webdriver/remote/webdriver.py\", line 319, in execute\n",
      "    response = self.command_executor.execute(driver_command, params)\n",
      "  File \"/Users/tetsuya/Dropbox/大学/M1秋/M政治データベース論/scra4local_politics/env/lib/python3.7/site-packages/selenium/webdriver/remote/remote_connection.py\", line 374, in execute\n",
      "    return self._request(command_info[0], url, body=data)\n",
      "  File \"/Users/tetsuya/Dropbox/大学/M1秋/M政治データベース論/scra4local_politics/env/lib/python3.7/site-packages/selenium/webdriver/remote/remote_connection.py\", line 402, in _request\n",
      "    resp = http.request(method, url, body=body, headers=headers)\n",
      "  File \"/Users/tetsuya/Dropbox/大学/M1秋/M政治データベース論/scra4local_politics/env/lib/python3.7/site-packages/urllib3/request.py\", line 80, in request\n",
      "    method, url, fields=fields, headers=headers, **urlopen_kw\n",
      "  File \"/Users/tetsuya/Dropbox/大学/M1秋/M政治データベース論/scra4local_politics/env/lib/python3.7/site-packages/urllib3/request.py\", line 171, in request_encode_body\n",
      "    return self.urlopen(method, url, **extra_kw)\n",
      "  File \"/Users/tetsuya/Dropbox/大学/M1秋/M政治データベース論/scra4local_politics/env/lib/python3.7/site-packages/urllib3/poolmanager.py\", line 336, in urlopen\n",
      "    response = conn.urlopen(method, u.request_uri, **kw)\n",
      "  File \"/Users/tetsuya/Dropbox/大学/M1秋/M政治データベース論/scra4local_politics/env/lib/python3.7/site-packages/urllib3/connectionpool.py\", line 767, in urlopen\n",
      "    **response_kw\n",
      "  File \"/Users/tetsuya/Dropbox/大学/M1秋/M政治データベース論/scra4local_politics/env/lib/python3.7/site-packages/urllib3/connectionpool.py\", line 767, in urlopen\n",
      "    **response_kw\n",
      "  File \"/Users/tetsuya/Dropbox/大学/M1秋/M政治データベース論/scra4local_politics/env/lib/python3.7/site-packages/urllib3/connectionpool.py\", line 767, in urlopen\n",
      "    **response_kw\n",
      "  File \"/Users/tetsuya/Dropbox/大学/M1秋/M政治データベース論/scra4local_politics/env/lib/python3.7/site-packages/urllib3/connectionpool.py\", line 727, in urlopen\n",
      "    method, url, error=e, _pool=self, _stacktrace=sys.exc_info()[2]\n",
      "  File \"/Users/tetsuya/Dropbox/大学/M1秋/M政治データベース論/scra4local_politics/env/lib/python3.7/site-packages/urllib3/util/retry.py\", line 446, in increment\n",
      "    raise MaxRetryError(_pool, url, error or ResponseError(cause))\n",
      "urllib3.exceptions.MaxRetryError: HTTPConnectionPool(host='localhost', port=65000): Max retries exceeded with url: /wd/hub/session (Caused by NewConnectionError('<urllib3.connection.HTTPConnection object at 0x10f1a2ed0>: Failed to establish a new connection: [Errno 61] Connection refused'))\n",
      "\n"
     ]
    }
   ],
   "source": [
    "from urllib3.exceptions import MaxRetryError\n",
    "import sys\n",
    "import traceback\n",
    "\n",
    "options = webdriver.ChromeOptions()\n",
    "options.add_argument('--headless')\n",
    "\n",
    "try:\n",
    "    driver = webdriver.Remote(\n",
    "        command_executor='http://localhost:65000/wd/hub',\n",
    "        desired_capabilities=options.to_capabilities(),\n",
    "        options=options,\n",
    "    )\n",
    "    driver.implicitly_wait(10)\n",
    "except MaxRetryError as e:\n",
    "    sys.stderr.write(traceback.format_exc() + '\\n')\n",
    "    print('docker died?')"
   ]
  },
  {
   "cell_type": "code",
   "execution_count": 4,
   "metadata": {},
   "outputs": [
    {
     "data": {
      "text/plain": [
       "'http://www.kensakusystem.jp/takatsuki/cgi-bin3/See.exe?Code=izm2vke6bjde8ygf0p'"
      ]
     },
     "execution_count": 4,
     "metadata": {},
     "output_type": "execute_result"
    }
   ],
   "source": [
    "driver.get(url)\n",
    "time.sleep(2)  # html を GET して，ブラウザが読み込むまで待つ\n",
    "driver.current_url"
   ]
  },
  {
   "cell_type": "code",
   "execution_count": 5,
   "metadata": {},
   "outputs": [
    {
     "data": {
      "text/plain": [
       "<selenium.webdriver.remote.webelement.WebElement (session=\"780db112ea978968e478fa79ea15e5fc\", element=\"83cdf204-144b-4ab2-b65a-914ee86d36a0\")>"
      ]
     },
     "execution_count": 5,
     "metadata": {},
     "output_type": "execute_result"
    }
   ],
   "source": [
    "body = driver.find_element_by_xpath('/html/body')\n",
    "body"
   ]
  },
  {
   "cell_type": "code",
   "execution_count": 6,
   "metadata": {},
   "outputs": [
    {
     "data": {
      "text/plain": [
       "'令和 2年 第1回定例会\\n令和 2年 第2回臨時会\\n令和 2年 第3回臨時会\\n令和 2年 第4回定例会\\n\\n総務消防委員会\\n総務消防委員会協議会\\n市民都市委員会\\n市民都市委員会協議会\\n福祉企業委員会\\n福祉企業委員会協議会\\n文教にぎわい委員会\\n文教にぎわい委員会協議会\\n市街地整備促進特別委員会\\n新名神・交通体系等対策特別委員会\\n地方分権推進特別委員会\\n史跡整備・活用等特別委員会'"
      ]
     },
     "execution_count": 6,
     "metadata": {},
     "output_type": "execute_result"
    }
   ],
   "source": [
    "body.text"
   ]
  },
  {
   "cell_type": "code",
   "execution_count": 7,
   "metadata": {},
   "outputs": [
    {
     "data": {
      "text/plain": [
       "[<selenium.webdriver.remote.webelement.WebElement (session=\"780db112ea978968e478fa79ea15e5fc\", element=\"65c381e1-dc83-4d35-86f1-ed5e2435585b\")>,\n",
       " <selenium.webdriver.remote.webelement.WebElement (session=\"780db112ea978968e478fa79ea15e5fc\", element=\"8cb0de90-7067-4198-9f06-c65e62edf89e\")>,\n",
       " <selenium.webdriver.remote.webelement.WebElement (session=\"780db112ea978968e478fa79ea15e5fc\", element=\"21a95ad6-9201-44f7-aeb2-7460afcbc59b\")>,\n",
       " <selenium.webdriver.remote.webelement.WebElement (session=\"780db112ea978968e478fa79ea15e5fc\", element=\"210e15a8-7251-45f3-9710-b053a0366cd2\")>,\n",
       " <selenium.webdriver.remote.webelement.WebElement (session=\"780db112ea978968e478fa79ea15e5fc\", element=\"38bbef66-3560-4f01-9a8f-a4b695fbba0b\")>,\n",
       " <selenium.webdriver.remote.webelement.WebElement (session=\"780db112ea978968e478fa79ea15e5fc\", element=\"33197699-9668-42c7-911d-692e41003f98\")>,\n",
       " <selenium.webdriver.remote.webelement.WebElement (session=\"780db112ea978968e478fa79ea15e5fc\", element=\"377b4a4c-4880-444b-8e68-d53846c8c772\")>,\n",
       " <selenium.webdriver.remote.webelement.WebElement (session=\"780db112ea978968e478fa79ea15e5fc\", element=\"bffba880-0ca7-428f-ab13-13be744de038\")>,\n",
       " <selenium.webdriver.remote.webelement.WebElement (session=\"780db112ea978968e478fa79ea15e5fc\", element=\"40fcf1e5-3e5b-4725-8792-b7eb52e72ab5\")>,\n",
       " <selenium.webdriver.remote.webelement.WebElement (session=\"780db112ea978968e478fa79ea15e5fc\", element=\"935a3fa2-6e7a-4dfd-b316-3359c266a7ab\")>,\n",
       " <selenium.webdriver.remote.webelement.WebElement (session=\"780db112ea978968e478fa79ea15e5fc\", element=\"ac6b647f-a633-443f-96b2-40a2454fc0cf\")>,\n",
       " <selenium.webdriver.remote.webelement.WebElement (session=\"780db112ea978968e478fa79ea15e5fc\", element=\"6ccb2314-4608-4a4d-8728-34ed53bc1a34\")>,\n",
       " <selenium.webdriver.remote.webelement.WebElement (session=\"780db112ea978968e478fa79ea15e5fc\", element=\"3b6d8306-9d3f-4a94-90ff-3e5d87116bbc\")>,\n",
       " <selenium.webdriver.remote.webelement.WebElement (session=\"780db112ea978968e478fa79ea15e5fc\", element=\"3bece97a-d8bb-4d89-abf0-43f7ca43352f\")>,\n",
       " <selenium.webdriver.remote.webelement.WebElement (session=\"780db112ea978968e478fa79ea15e5fc\", element=\"16787bed-48a8-43f2-a857-cab5b1ca5fcd\")>,\n",
       " <selenium.webdriver.remote.webelement.WebElement (session=\"780db112ea978968e478fa79ea15e5fc\", element=\"374f9ee9-caaa-4e9b-bd03-4aae739032aa\")>,\n",
       " <selenium.webdriver.remote.webelement.WebElement (session=\"780db112ea978968e478fa79ea15e5fc\", element=\"376e8c45-43ad-4592-9027-e0bb5d472c14\")>,\n",
       " <selenium.webdriver.remote.webelement.WebElement (session=\"780db112ea978968e478fa79ea15e5fc\", element=\"8874b481-c890-4da3-9415-9c8e13183429\")>,\n",
       " <selenium.webdriver.remote.webelement.WebElement (session=\"780db112ea978968e478fa79ea15e5fc\", element=\"23040580-7596-4763-8951-2dfca5055640\")>,\n",
       " <selenium.webdriver.remote.webelement.WebElement (session=\"780db112ea978968e478fa79ea15e5fc\", element=\"cb5bcaa2-b536-4818-b5e3-8c8db27fe33f\")>,\n",
       " <selenium.webdriver.remote.webelement.WebElement (session=\"780db112ea978968e478fa79ea15e5fc\", element=\"8d3173b2-5431-44df-b221-db7b5ad6f490\")>]"
      ]
     },
     "execution_count": 7,
     "metadata": {},
     "output_type": "execute_result"
    }
   ],
   "source": [
    "a_tags = body.find_elements(By.XPATH, '//a')\n",
    "a_tags"
   ]
  },
  {
   "cell_type": "code",
   "execution_count": 14,
   "metadata": {},
   "outputs": [
    {
     "name": "stdout",
     "output_type": "stream",
     "text": [
      "\n",
      "\n",
      "\n",
      "\n",
      "\n",
      "令和 2年 第1回定例会\n",
      "令和 2年 第2回臨時会\n",
      "令和 2年 第3回臨時会\n",
      "令和 2年 第4回定例会\n",
      "総務消防委員会\n",
      "総務消防委員会協議会\n",
      "市民都市委員会\n",
      "市民都市委員会協議会\n",
      "福祉企業委員会\n",
      "福祉企業委員会協議会\n",
      "文教にぎわい委員会\n",
      "文教にぎわい委員会協議会\n",
      "市街地整備促進特別委員会\n",
      "新名神・交通体系等対策特別委員会\n",
      "地方分権推進特別委員会\n",
      "史跡整備・活用等特別委員会\n",
      "4 [<selenium.webdriver.remote.webelement.WebElement (session=\"780db112ea978968e478fa79ea15e5fc\", element=\"195fc178-a321-4627-8e2d-ac98d485cfdb\")>, <selenium.webdriver.remote.webelement.WebElement (session=\"780db112ea978968e478fa79ea15e5fc\", element=\"4641fc17-bce7-49b0-b3bc-b56091371e43\")>, <selenium.webdriver.remote.webelement.WebElement (session=\"780db112ea978968e478fa79ea15e5fc\", element=\"8c6e78b1-b1dd-40d9-8415-2401b90cc95b\")>, <selenium.webdriver.remote.webelement.WebElement (session=\"780db112ea978968e478fa79ea15e5fc\", element=\"5a85c435-2e50-4859-8d7c-c0c479c972db\")>]\n",
      "4 [<selenium.webdriver.remote.webelement.WebElement (session=\"780db112ea978968e478fa79ea15e5fc\", element=\"3dc5d453-4cae-4dae-b89d-1219934ccaf7\")>, <selenium.webdriver.remote.webelement.WebElement (session=\"780db112ea978968e478fa79ea15e5fc\", element=\"1e9d0485-155a-42d6-8591-53638ab123b4\")>, <selenium.webdriver.remote.webelement.WebElement (session=\"780db112ea978968e478fa79ea15e5fc\", element=\"6d925144-3f35-427c-a8c1-71243916ffd6\")>, <selenium.webdriver.remote.webelement.WebElement (session=\"780db112ea978968e478fa79ea15e5fc\", element=\"08c4977e-91a7-4c21-97fb-8876bd70a21d\")>]\n"
     ]
    },
    {
     "data": {
      "text/plain": [
       "'令和 2年 第1回定例会'"
      ]
     },
     "execution_count": 14,
     "metadata": {},
     "output_type": "execute_result"
    }
   ],
   "source": [
    "year_a_tags = []  # 年度の a タグ\n",
    "council_a_tags = []  # (定例会, 臨時会) の a タグ\n",
    "\n",
    "for tag in a_tags:\n",
    "    children = tag.find_elements(By.XPATH, '*')\n",
    "    \n",
    "    for child in children:  # a タグの中身を走査\n",
    "        if child.tag_name == 'img':\n",
    "            alt = child.get_attribute('alt').replace(' ', '').replace('　', '')\n",
    "            if alt.endswith('年'):\n",
    "                year_a_tags.append(child)\n",
    "                break\n",
    "        \n",
    "    if re.fullmatch(r'.*(定例|臨時)会', tag.text):\n",
    "        council_a_tags.append(child)  # fix\n",
    "    \n",
    "    print(tag.text)\n",
    "    \n",
    "\n",
    "print(len(year_a_tags), year_a_tags)\n",
    "print(len(council_a_tags), council_a_tags)\n",
    "a_tags[5].text"
   ]
  },
  {
   "cell_type": "code",
   "execution_count": 9,
   "metadata": {},
   "outputs": [
    {
     "name": "stdout",
     "output_type": "stream",
     "text": [
      "http://www.kensakusystem.jp/takatsuki/cgi-bin3/See.exe\n"
     ]
    },
    {
     "data": {
      "text/plain": [
       "'令和 2年 第1回定例会\\n（第1日 2月27日）\\n（第2日 3月 4日）\\n（第3日 3月 5日）\\n（第4日 3月24日）\\n令和 2年 第2回臨時会\\n令和 2年 第3回臨時会\\n令和 2年 第4回定例会\\n\\n総務消防委員会\\n総務消防委員会協議会\\n市民都市委員会\\n市民都市委員会協議会\\n福祉企業委員会\\n福祉企業委員会協議会\\n文教にぎわい委員会\\n文教にぎわい委員会協議会\\n市街地整備促進特別委員会\\n新名神・交通体系等対策特別委員会\\n地方分権推進特別委員会\\n史跡整備・活用等特別委員会'"
      ]
     },
     "execution_count": 9,
     "metadata": {},
     "output_type": "execute_result"
    }
   ],
   "source": [
    "a_tags[5].click()\n",
    "time.sleep(1)  # JavaScript 実行待ち\n",
    "\n",
    "print(driver.current_url)\n",
    "driver.find_element_by_xpath('/html/body').text"
   ]
  },
  {
   "cell_type": "code",
   "execution_count": 10,
   "metadata": {},
   "outputs": [
    {
     "data": {
      "text/plain": [
       "[<selenium.webdriver.remote.webelement.WebElement (session=\"7fed58dee756a084fb311d415d490cc9\", element=\"adfbffdc-dcae-4823-923e-79406b1a8da2\")>,\n",
       " <selenium.webdriver.remote.webelement.WebElement (session=\"7fed58dee756a084fb311d415d490cc9\", element=\"f4b71013-2ad9-418d-84bc-7b0bfe4f5b59\")>,\n",
       " <selenium.webdriver.remote.webelement.WebElement (session=\"7fed58dee756a084fb311d415d490cc9\", element=\"1e11c51b-7919-466a-bfb7-683c3e106947\")>,\n",
       " <selenium.webdriver.remote.webelement.WebElement (session=\"7fed58dee756a084fb311d415d490cc9\", element=\"98d5e5f1-6dd1-4c7b-be90-e6ed3128081b\")>,\n",
       " <selenium.webdriver.remote.webelement.WebElement (session=\"7fed58dee756a084fb311d415d490cc9\", element=\"2102fd76-f67d-48ba-9392-a064081cd157\")>,\n",
       " <selenium.webdriver.remote.webelement.WebElement (session=\"7fed58dee756a084fb311d415d490cc9\", element=\"953f66a0-e0c0-4e0b-a49a-a7379ec57d37\")>,\n",
       " <selenium.webdriver.remote.webelement.WebElement (session=\"7fed58dee756a084fb311d415d490cc9\", element=\"57917bff-94de-4757-9d0f-4867d004d9c1\")>,\n",
       " <selenium.webdriver.remote.webelement.WebElement (session=\"7fed58dee756a084fb311d415d490cc9\", element=\"9b521120-6080-45fa-9e70-1869127efaf7\")>,\n",
       " <selenium.webdriver.remote.webelement.WebElement (session=\"7fed58dee756a084fb311d415d490cc9\", element=\"f0e44a32-0a69-4add-b419-fa17ed9c72f2\")>,\n",
       " <selenium.webdriver.remote.webelement.WebElement (session=\"7fed58dee756a084fb311d415d490cc9\", element=\"784d7d30-5bc9-4675-87ad-b7b5df9b7067\")>,\n",
       " <selenium.webdriver.remote.webelement.WebElement (session=\"7fed58dee756a084fb311d415d490cc9\", element=\"133e010f-df42-4439-9a3f-e9738aa0aeed\")>,\n",
       " <selenium.webdriver.remote.webelement.WebElement (session=\"7fed58dee756a084fb311d415d490cc9\", element=\"d58d322e-75ca-4d23-9164-3d78d1ffb3ab\")>,\n",
       " <selenium.webdriver.remote.webelement.WebElement (session=\"7fed58dee756a084fb311d415d490cc9\", element=\"dca8087c-3c51-4404-bfbf-78c4c67d6bce\")>,\n",
       " <selenium.webdriver.remote.webelement.WebElement (session=\"7fed58dee756a084fb311d415d490cc9\", element=\"4d07ea85-6d9b-4c0e-ab92-9258d4656b04\")>,\n",
       " <selenium.webdriver.remote.webelement.WebElement (session=\"7fed58dee756a084fb311d415d490cc9\", element=\"4ba69284-c716-421a-b35c-46c2a0d63bfb\")>,\n",
       " <selenium.webdriver.remote.webelement.WebElement (session=\"7fed58dee756a084fb311d415d490cc9\", element=\"8d7a0f98-6f5b-4761-960f-c29076e687e1\")>,\n",
       " <selenium.webdriver.remote.webelement.WebElement (session=\"7fed58dee756a084fb311d415d490cc9\", element=\"527ba07d-b9c1-42a8-bc8a-ddca3fa598d9\")>,\n",
       " <selenium.webdriver.remote.webelement.WebElement (session=\"7fed58dee756a084fb311d415d490cc9\", element=\"c68398c5-4ce7-4875-ba95-6624620d8913\")>,\n",
       " <selenium.webdriver.remote.webelement.WebElement (session=\"7fed58dee756a084fb311d415d490cc9\", element=\"cef67455-e30e-4dbd-a303-dd9fb237348e\")>,\n",
       " <selenium.webdriver.remote.webelement.WebElement (session=\"7fed58dee756a084fb311d415d490cc9\", element=\"3ecc3573-4263-4c96-b098-92bd80118fd4\")>,\n",
       " <selenium.webdriver.remote.webelement.WebElement (session=\"7fed58dee756a084fb311d415d490cc9\", element=\"e25a9ed2-7bc8-4be1-aabc-2fd675aa5f57\")>,\n",
       " <selenium.webdriver.remote.webelement.WebElement (session=\"7fed58dee756a084fb311d415d490cc9\", element=\"198b9bf5-3a21-4e47-808b-16af09b22e5f\")>,\n",
       " <selenium.webdriver.remote.webelement.WebElement (session=\"7fed58dee756a084fb311d415d490cc9\", element=\"0b47fe03-075d-4fc8-b4e8-a21ecd239f8b\")>,\n",
       " <selenium.webdriver.remote.webelement.WebElement (session=\"7fed58dee756a084fb311d415d490cc9\", element=\"317983c3-5418-440b-8830-58c14adcb255\")>,\n",
       " <selenium.webdriver.remote.webelement.WebElement (session=\"7fed58dee756a084fb311d415d490cc9\", element=\"fd57299e-40e9-47ce-925f-559168b16772\")>,\n",
       " <selenium.webdriver.remote.webelement.WebElement (session=\"7fed58dee756a084fb311d415d490cc9\", element=\"07fed32d-2641-4392-b07f-b6b90dc08eee\")>,\n",
       " <selenium.webdriver.remote.webelement.WebElement (session=\"7fed58dee756a084fb311d415d490cc9\", element=\"f6527bb1-d9cd-445d-b21c-ae8160ac6997\")>,\n",
       " <selenium.webdriver.remote.webelement.WebElement (session=\"7fed58dee756a084fb311d415d490cc9\", element=\"333c3cfe-1775-4eb2-a3dc-1bc69fcb5415\")>,\n",
       " <selenium.webdriver.remote.webelement.WebElement (session=\"7fed58dee756a084fb311d415d490cc9\", element=\"b66e2182-de92-419c-ace2-f76e08370e29\")>,\n",
       " <selenium.webdriver.remote.webelement.WebElement (session=\"7fed58dee756a084fb311d415d490cc9\", element=\"7e3862a8-251d-4ccb-92bd-2ae395feed9c\")>]"
      ]
     },
     "execution_count": 10,
     "metadata": {},
     "output_type": "execute_result"
    }
   ],
   "source": [
    "new_a_tags = driver.find_element_by_xpath('/html/body').find_elements(By.XPATH, '//a')\n",
    "new_a_tags"
   ]
  },
  {
   "cell_type": "code",
   "execution_count": 11,
   "metadata": {},
   "outputs": [
    {
     "name": "stdout",
     "output_type": "stream",
     "text": [
      "a \n",
      "a \n",
      "a \n",
      "a \n",
      "a \n",
      "a \n",
      "a \n",
      "a \n",
      "a \n",
      "a \n",
      "a 令和 2年 第1回定例会\n",
      "a （第1日 2月27日）\n",
      "a （第2日 3月 4日）\n",
      "a （第3日 3月 5日）\n",
      "a （第4日 3月24日）\n",
      "a 令和 2年 第2回臨時会\n",
      "a 令和 2年 第3回臨時会\n",
      "a 令和 2年 第4回定例会\n",
      "a 総務消防委員会\n",
      "a 総務消防委員会協議会\n",
      "a 市民都市委員会\n",
      "a 市民都市委員会協議会\n",
      "a 福祉企業委員会\n",
      "a 福祉企業委員会協議会\n",
      "a 文教にぎわい委員会\n",
      "a 文教にぎわい委員会協議会\n",
      "a 市街地整備促進特別委員会\n",
      "a 新名神・交通体系等対策特別委員会\n",
      "a 地方分権推進特別委員会\n",
      "a 史跡整備・活用等特別委員会\n"
     ]
    },
    {
     "data": {
      "text/plain": [
       "'（第1日 2月27日）'"
      ]
     },
     "execution_count": 11,
     "metadata": {},
     "output_type": "execute_result"
    }
   ],
   "source": [
    "for tag in new_a_tags:\n",
    "    tag_name = tag.tag_name\n",
    "    print(tag_name, end=' ')\n",
    "    \n",
    "    if tag_name == 'a':\n",
    "        print(tag.text)\n",
    "    elif tag_name == 'img':\n",
    "        print(tag.get_attribute('alt'))\n",
    "    else:\n",
    "        print('neither tag')\n",
    "\n",
    "new_a_tags[11].text"
   ]
  },
  {
   "cell_type": "code",
   "execution_count": 12,
   "metadata": {},
   "outputs": [
    {
     "data": {
      "text/plain": [
       "'http://www.kensakusystem.jp/takatsuki/cgi-bin3/ResultFrame.exe?Code=izm2vke6bjde8ygf0p&fileName=R020227A&startPos=0'"
      ]
     },
     "execution_count": 12,
     "metadata": {},
     "output_type": "execute_result"
    }
   ],
   "source": [
    "next_page = new_a_tags[11].get_attribute('href')\n",
    "next_page"
   ]
  },
  {
   "cell_type": "code",
   "execution_count": 13,
   "metadata": {},
   "outputs": [
    {
     "data": {
      "text/plain": [
       "'<!DOCTYPE HTML PUBLIC \"-//W3C//DTD HTML 4.01 Transitional//EN\">\\r\\n<HTML>\\r\\n<HEAD>\\r\\n<META http-equiv=\"Content-Type\" content=\"text/html; charset=Shift_JIS\">\\r\\n<!--  -->\\r\\n<TITLE>令和 2年第1回定例会（第1日 2月27日）</TITLE>\\r\\n</HEAD>\\r\\n<!--Code=izm2vke6bjde8ygf0p&fileName=R020227A&startPos=0-->\\r\\n<FRAMESET FRAMEBORDER=1 COLS=\"280,*\">\\r\\n<FRAME SRC=\"/takatsuki/cgi-bin3/r_Speakers.exe?izm2vke6bjde8ygf0p/R020227A/0/0//10/1/536870911:0/1498/1//0/0/0\" NAME=\"MENU\">\\r\\n<FRAME SRC=\"/takatsuki/cgi-bin3/r_TextFrame.exe?izm2vke6bjde8ygf0p/R020227A/0/0//10/1/1498//0/0/0\" NAME=\"TEXTW\">\\r\\n</FRAMESET>\\r\\n</HTML>\\r\\n'"
      ]
     },
     "execution_count": 13,
     "metadata": {},
     "output_type": "execute_result"
    }
   ],
   "source": [
    "requests.get(next_page).text"
   ]
  },
  {
   "cell_type": "code",
   "execution_count": 14,
   "metadata": {},
   "outputs": [
    {
     "data": {
      "text/plain": [
       "'a'"
      ]
     },
     "execution_count": 14,
     "metadata": {},
     "output_type": "execute_result"
    }
   ],
   "source": [
    "new_a_tags[11].tag_name"
   ]
  },
  {
   "cell_type": "code",
   "execution_count": 30,
   "metadata": {},
   "outputs": [
    {
     "name": "stdout",
     "output_type": "stream",
     "text": [
      "img\n"
     ]
    },
    {
     "data": {
      "text/plain": [
       "''"
      ]
     },
     "execution_count": 30,
     "metadata": {},
     "output_type": "execute_result"
    }
   ],
   "source": [
    "print(new_a_tags[11].find_elements(By.XPATH, '*')[0].tag_name)\n",
    "new_a_tags[11].find_elements(By.XPATH, '*')[0].get_attribute('alt')"
   ]
  },
  {
   "cell_type": "code",
   "execution_count": null,
   "metadata": {},
   "outputs": [],
   "source": []
  }
 ],
 "metadata": {
  "kernelspec": {
   "display_name": "scra4local_politics",
   "language": "python",
   "name": "scra4local_politics"
  },
  "language_info": {
   "codemirror_mode": {
    "name": "ipython",
    "version": 3
   },
   "file_extension": ".py",
   "mimetype": "text/x-python",
   "name": "python",
   "nbconvert_exporter": "python",
   "pygments_lexer": "ipython3",
   "version": "3.7.9"
  }
 },
 "nbformat": 4,
 "nbformat_minor": 4
}
